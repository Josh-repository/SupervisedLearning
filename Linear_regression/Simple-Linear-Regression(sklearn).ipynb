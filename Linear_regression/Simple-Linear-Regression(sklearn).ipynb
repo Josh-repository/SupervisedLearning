{
 "cells": [
  {
   "cell_type": "code",
   "execution_count": 110,
   "metadata": {},
   "outputs": [
    {
     "ename": "ImportError",
     "evalue": "cannot import name 'score' from 'sklearn.metrics' (C:\\Users\\gowtham\\Anaconda3\\lib\\site-packages\\sklearn\\metrics\\__init__.py)",
     "output_type": "error",
     "traceback": [
      "\u001b[1;31m---------------------------------------------------------------------------\u001b[0m",
      "\u001b[1;31mImportError\u001b[0m                               Traceback (most recent call last)",
      "\u001b[1;32m<ipython-input-110-8cc21e6f1226>\u001b[0m in \u001b[0;36m<module>\u001b[1;34m\u001b[0m\n\u001b[0;32m      8\u001b[0m \u001b[1;32mfrom\u001b[0m \u001b[0msklearn\u001b[0m\u001b[1;33m.\u001b[0m\u001b[0mpreprocessing\u001b[0m \u001b[1;32mimport\u001b[0m \u001b[0mStandardScaler\u001b[0m\u001b[1;33m\u001b[0m\u001b[1;33m\u001b[0m\u001b[0m\n\u001b[0;32m      9\u001b[0m \u001b[1;32mfrom\u001b[0m \u001b[0msklearn\u001b[0m\u001b[1;33m.\u001b[0m\u001b[0mmetrics\u001b[0m \u001b[1;32mimport\u001b[0m \u001b[0mmean_squared_error\u001b[0m\u001b[1;33m,\u001b[0m \u001b[0mr2_score\u001b[0m\u001b[1;33m\u001b[0m\u001b[1;33m\u001b[0m\u001b[0m\n\u001b[1;32m---> 10\u001b[1;33m \u001b[1;32mfrom\u001b[0m \u001b[0msklearn\u001b[0m\u001b[1;33m.\u001b[0m\u001b[0mmetrics\u001b[0m \u001b[1;32mimport\u001b[0m \u001b[0mscore\u001b[0m\u001b[1;33m\u001b[0m\u001b[1;33m\u001b[0m\u001b[0m\n\u001b[0m\u001b[0;32m     11\u001b[0m \u001b[0mplt\u001b[0m\u001b[1;33m.\u001b[0m\u001b[0mrcParams\u001b[0m\u001b[1;33m[\u001b[0m\u001b[1;34m'figure.figsize'\u001b[0m\u001b[1;33m]\u001b[0m \u001b[1;33m=\u001b[0m \u001b[1;33m(\u001b[0m\u001b[1;36m10.0\u001b[0m\u001b[1;33m,\u001b[0m\u001b[1;36m7.0\u001b[0m\u001b[1;33m)\u001b[0m\u001b[1;33m\u001b[0m\u001b[1;33m\u001b[0m\u001b[0m\n\u001b[0;32m     12\u001b[0m \u001b[0mplt\u001b[0m\u001b[1;33m.\u001b[0m\u001b[0mrcParams\u001b[0m\u001b[1;33m[\u001b[0m\u001b[1;34m'figure.constrained_layout.use'\u001b[0m\u001b[1;33m]\u001b[0m\u001b[1;33m=\u001b[0m \u001b[1;32mTrue\u001b[0m\u001b[1;33m\u001b[0m\u001b[1;33m\u001b[0m\u001b[0m\n",
      "\u001b[1;31mImportError\u001b[0m: cannot import name 'score' from 'sklearn.metrics' (C:\\Users\\gowtham\\Anaconda3\\lib\\site-packages\\sklearn\\metrics\\__init__.py)"
     ]
    }
   ],
   "source": [
    "#importing all necessary packages. \n",
    "import numpy as np\n",
    "import pandas as pd\n",
    "import matplotlib.pyplot as plt\n",
    "from sklearn.model_selection import train_test_split \n",
    "from sklearn.linear_model import LinearRegression\n",
    "from sklearn import metrics\n",
    "from sklearn.preprocessing import StandardScaler\n",
    "from sklearn.metrics import mean_squared_error, r2_score\n",
    "from sklearn.metrics import score\n",
    "plt.rcParams['figure.figsize'] = (10.0,7.0)\n",
    "plt.rcParams['figure.constrained_layout.use']= True\n",
    "plt.rc('font',size=18)\n",
    "\n",
    "#Importing the dataset from file name heart.csv\n",
    "df = pd.read_csv('television.csv',skiprows=3)\n",
    "df.info()"
   ]
  },
  {
   "cell_type": "code",
   "execution_count": 66,
   "metadata": {},
   "outputs": [
    {
     "data": {
      "text/html": [
       "<div>\n",
       "<style scoped>\n",
       "    .dataframe tbody tr th:only-of-type {\n",
       "        vertical-align: middle;\n",
       "    }\n",
       "\n",
       "    .dataframe tbody tr th {\n",
       "        vertical-align: top;\n",
       "    }\n",
       "\n",
       "    .dataframe thead th {\n",
       "        text-align: right;\n",
       "    }\n",
       "</style>\n",
       "<table border=\"1\" class=\"dataframe\">\n",
       "  <thead>\n",
       "    <tr style=\"text-align: right;\">\n",
       "      <th></th>\n",
       "      <th>Unnamed: 0</th>\n",
       "      <th>Unnamed: 1</th>\n",
       "      <th>Unnamed: 2</th>\n",
       "      <th>Unnamed: 3</th>\n",
       "      <th>Unnamed: 4</th>\n",
       "      <th>Unnamed: 5</th>\n",
       "    </tr>\n",
       "  </thead>\n",
       "  <tbody>\n",
       "    <tr>\n",
       "      <td>0</td>\n",
       "      <td>Argentina</td>\n",
       "      <td>70.5</td>\n",
       "      <td>4</td>\n",
       "      <td>370.0</td>\n",
       "      <td>74.0</td>\n",
       "      <td>67.0</td>\n",
       "    </tr>\n",
       "    <tr>\n",
       "      <td>1</td>\n",
       "      <td>Bangladesh</td>\n",
       "      <td>53.5</td>\n",
       "      <td>315</td>\n",
       "      <td>6166.0</td>\n",
       "      <td>53.0</td>\n",
       "      <td>54.0</td>\n",
       "    </tr>\n",
       "    <tr>\n",
       "      <td>2</td>\n",
       "      <td>Brazil</td>\n",
       "      <td>65.0</td>\n",
       "      <td>4</td>\n",
       "      <td>684.0</td>\n",
       "      <td>68.0</td>\n",
       "      <td>62.0</td>\n",
       "    </tr>\n",
       "    <tr>\n",
       "      <td>3</td>\n",
       "      <td>Canada</td>\n",
       "      <td>76.5</td>\n",
       "      <td>1.7</td>\n",
       "      <td>449.0</td>\n",
       "      <td>80.0</td>\n",
       "      <td>73.0</td>\n",
       "    </tr>\n",
       "    <tr>\n",
       "      <td>4</td>\n",
       "      <td>China</td>\n",
       "      <td>70.0</td>\n",
       "      <td>8</td>\n",
       "      <td>643.0</td>\n",
       "      <td>72.0</td>\n",
       "      <td>68.0</td>\n",
       "    </tr>\n",
       "  </tbody>\n",
       "</table>\n",
       "</div>"
      ],
      "text/plain": [
       "   Unnamed: 0  Unnamed: 1 Unnamed: 2  Unnamed: 3  Unnamed: 4  Unnamed: 5\n",
       "0   Argentina        70.5          4       370.0        74.0        67.0\n",
       "1  Bangladesh        53.5        315      6166.0        53.0        54.0\n",
       "2      Brazil        65.0          4       684.0        68.0        62.0\n",
       "3      Canada        76.5        1.7       449.0        80.0        73.0\n",
       "4       China        70.0          8       643.0        72.0        68.0"
      ]
     },
     "execution_count": 66,
     "metadata": {},
     "output_type": "execute_result"
    }
   ],
   "source": [
    "df.describe()\n",
    "df.head()"
   ]
  },
  {
   "cell_type": "code",
   "execution_count": 67,
   "metadata": {},
   "outputs": [
    {
     "data": {
      "text/html": [
       "<div>\n",
       "<style scoped>\n",
       "    .dataframe tbody tr th:only-of-type {\n",
       "        vertical-align: middle;\n",
       "    }\n",
       "\n",
       "    .dataframe tbody tr th {\n",
       "        vertical-align: top;\n",
       "    }\n",
       "\n",
       "    .dataframe thead th {\n",
       "        text-align: right;\n",
       "    }\n",
       "</style>\n",
       "<table border=\"1\" class=\"dataframe\">\n",
       "  <thead>\n",
       "    <tr style=\"text-align: right;\">\n",
       "      <th></th>\n",
       "      <th>Country</th>\n",
       "      <th>Life_expectancy</th>\n",
       "      <th>People_per_television</th>\n",
       "      <th>People_per_physician</th>\n",
       "      <th>Female _life_expectancy</th>\n",
       "      <th>Male life expectancy</th>\n",
       "    </tr>\n",
       "  </thead>\n",
       "  <tbody>\n",
       "    <tr>\n",
       "      <td>0</td>\n",
       "      <td>Argentina</td>\n",
       "      <td>70.5</td>\n",
       "      <td>4</td>\n",
       "      <td>370.0</td>\n",
       "      <td>74.0</td>\n",
       "      <td>67.0</td>\n",
       "    </tr>\n",
       "    <tr>\n",
       "      <td>1</td>\n",
       "      <td>Bangladesh</td>\n",
       "      <td>53.5</td>\n",
       "      <td>315</td>\n",
       "      <td>6166.0</td>\n",
       "      <td>53.0</td>\n",
       "      <td>54.0</td>\n",
       "    </tr>\n",
       "    <tr>\n",
       "      <td>2</td>\n",
       "      <td>Brazil</td>\n",
       "      <td>65.0</td>\n",
       "      <td>4</td>\n",
       "      <td>684.0</td>\n",
       "      <td>68.0</td>\n",
       "      <td>62.0</td>\n",
       "    </tr>\n",
       "    <tr>\n",
       "      <td>3</td>\n",
       "      <td>Canada</td>\n",
       "      <td>76.5</td>\n",
       "      <td>1.7</td>\n",
       "      <td>449.0</td>\n",
       "      <td>80.0</td>\n",
       "      <td>73.0</td>\n",
       "    </tr>\n",
       "    <tr>\n",
       "      <td>4</td>\n",
       "      <td>China</td>\n",
       "      <td>70.0</td>\n",
       "      <td>8</td>\n",
       "      <td>643.0</td>\n",
       "      <td>72.0</td>\n",
       "      <td>68.0</td>\n",
       "    </tr>\n",
       "  </tbody>\n",
       "</table>\n",
       "</div>"
      ],
      "text/plain": [
       "      Country  Life_expectancy People_per_television  People_per_physician  \\\n",
       "0   Argentina             70.5                     4                 370.0   \n",
       "1  Bangladesh             53.5                   315                6166.0   \n",
       "2      Brazil             65.0                     4                 684.0   \n",
       "3      Canada             76.5                   1.7                 449.0   \n",
       "4       China             70.0                     8                 643.0   \n",
       "\n",
       "   Female _life_expectancy  Male life expectancy  \n",
       "0                     74.0                  67.0  \n",
       "1                     53.0                  54.0  \n",
       "2                     68.0                  62.0  \n",
       "3                     80.0                  73.0  \n",
       "4                     72.0                  68.0  "
      ]
     },
     "execution_count": 67,
     "metadata": {},
     "output_type": "execute_result"
    }
   ],
   "source": [
    "# adding column name to the respective columns \n",
    "df.columns =['Country', 'Life_expectancy', 'People_per_television', 'People_per_physician','Female _life_expectancy','Male life expectancy']\n",
    "df.head()"
   ]
  },
  {
   "cell_type": "code",
   "execution_count": 76,
   "metadata": {},
   "outputs": [
    {
     "data": {
      "text/html": [
       "<div>\n",
       "<style scoped>\n",
       "    .dataframe tbody tr th:only-of-type {\n",
       "        vertical-align: middle;\n",
       "    }\n",
       "\n",
       "    .dataframe tbody tr th {\n",
       "        vertical-align: top;\n",
       "    }\n",
       "\n",
       "    .dataframe thead th {\n",
       "        text-align: right;\n",
       "    }\n",
       "</style>\n",
       "<table border=\"1\" class=\"dataframe\">\n",
       "  <thead>\n",
       "    <tr style=\"text-align: right;\">\n",
       "      <th></th>\n",
       "      <th>People_per_physician</th>\n",
       "      <th>Life_expectancy</th>\n",
       "    </tr>\n",
       "  </thead>\n",
       "  <tbody>\n",
       "    <tr>\n",
       "      <td>0</td>\n",
       "      <td>370.0</td>\n",
       "      <td>70.5</td>\n",
       "    </tr>\n",
       "    <tr>\n",
       "      <td>1</td>\n",
       "      <td>6166.0</td>\n",
       "      <td>53.5</td>\n",
       "    </tr>\n",
       "    <tr>\n",
       "      <td>2</td>\n",
       "      <td>684.0</td>\n",
       "      <td>65.0</td>\n",
       "    </tr>\n",
       "    <tr>\n",
       "      <td>3</td>\n",
       "      <td>449.0</td>\n",
       "      <td>76.5</td>\n",
       "    </tr>\n",
       "    <tr>\n",
       "      <td>4</td>\n",
       "      <td>643.0</td>\n",
       "      <td>70.0</td>\n",
       "    </tr>\n",
       "  </tbody>\n",
       "</table>\n",
       "</div>"
      ],
      "text/plain": [
       "   People_per_physician  Life_expectancy\n",
       "0                 370.0             70.5\n",
       "1                6166.0             53.5\n",
       "2                 684.0             65.0\n",
       "3                 449.0             76.5\n",
       "4                 643.0             70.0"
      ]
     },
     "execution_count": 76,
     "metadata": {},
     "output_type": "execute_result"
    }
   ],
   "source": [
    "df_new = df[['People_per_physician','Life_expectancy']]\n",
    "df_new.head()"
   ]
  },
  {
   "cell_type": "code",
   "execution_count": 75,
   "metadata": {},
   "outputs": [
    {
     "data": {
      "text/plain": [
       "(187, 2)"
      ]
     },
     "execution_count": 75,
     "metadata": {},
     "output_type": "execute_result"
    }
   ],
   "source": [
    "df_new.shape"
   ]
  },
  {
   "cell_type": "code",
   "execution_count": 85,
   "metadata": {},
   "outputs": [
    {
     "data": {
      "text/plain": [
       "(40, 2)"
      ]
     },
     "execution_count": 85,
     "metadata": {},
     "output_type": "execute_result"
    }
   ],
   "source": [
    "df_new = df_new.dropna()\n",
    "df_new.shape"
   ]
  },
  {
   "cell_type": "code",
   "execution_count": 86,
   "metadata": {},
   "outputs": [],
   "source": [
    "X=np.array(df_new.iloc[:,0])\n",
    "X=X.reshape(-1,1)\n",
    "Y=np.array(df_new.iloc[:,1])\n",
    "Y=Y.reshape(-1,1)"
   ]
  },
  {
   "cell_type": "code",
   "execution_count": 97,
   "metadata": {},
   "outputs": [
    {
     "name": "stdout",
     "output_type": "stream",
     "text": [
      "[[0.69090909]\n",
      " [0.07272727]\n",
      " [0.49090909]\n",
      " [0.90909091]\n",
      " [0.67272727]\n",
      " [0.70909091]\n",
      " [0.32727273]\n",
      " [0.        ]\n",
      " [0.96363636]\n",
      " [0.89090909]\n",
      " [0.21818182]\n",
      " [0.34545455]\n",
      " [0.47272727]\n",
      " [0.98181818]\n",
      " [1.        ]\n",
      " [0.34545455]\n",
      " [0.67272727]\n",
      " [0.67272727]\n",
      " [0.74545455]\n",
      " [0.47272727]\n",
      " [0.10909091]\n",
      " [0.18181818]\n",
      " [0.47272727]\n",
      " [0.47272727]\n",
      " [0.78181818]\n",
      " [0.74545455]\n",
      " [0.63636364]\n",
      " [0.45454545]\n",
      " [0.98181818]\n",
      " [0.05454545]\n",
      " [0.85454545]\n",
      " [0.03636364]\n",
      " [0.61818182]\n",
      " [0.67272727]\n",
      " [0.69090909]\n",
      " [0.89090909]\n",
      " [0.87272727]\n",
      " [0.83636364]\n",
      " [0.49090909]\n",
      " [0.09090909]]\n"
     ]
    }
   ],
   "source": [
    "#Since the given dataset has different range of value it is required to perform normalization.\n",
    "#Normalising the given dataset.\n",
    "#First converting all the negative values in 'Y' by adding each value in 'Y' with the lowest value possible.   \n",
    "min_value1=Y.min()\n",
    "Y_new = Y-min_value1\n",
    "#Second normalizing the dataset within the range 0 to 1 by making use of min/max method.\n",
    "mini=Y_new.min()\n",
    "maxi=Y_new.max()\n",
    "Y_new= Y_new/maxi\n",
    "print(Y_new)"
   ]
  },
  {
   "cell_type": "code",
   "execution_count": 99,
   "metadata": {},
   "outputs": [
    {
     "name": "stdout",
     "output_type": "stream",
     "text": [
      "36660.0 226.0\n",
      "[[3.95235220e-03]\n",
      " [1.63034528e-01]\n",
      " [1.25706757e-02]\n",
      " [6.12065653e-03]\n",
      " [1.14453532e-02]\n",
      " [3.63671296e-02]\n",
      " [1.07042872e-02]\n",
      " [1.00000000e+00]\n",
      " [4.85809958e-03]\n",
      " [3.29362683e-03]\n",
      " [6.16182687e-02]\n",
      " [1.97645057e-01]\n",
      " [7.59180985e-02]\n",
      " [1.92128232e-04]\n",
      " [1.05121590e-02]\n",
      " [2.02805072e-01]\n",
      " [3.95235220e-03]\n",
      " [2.30553878e-02]\n",
      " [1.02651370e-02]\n",
      " [1.27545699e-01]\n",
      " [8.94494154e-02]\n",
      " [5.86814514e-02]\n",
      " [2.16830433e-02]\n",
      " [2.29456003e-02]\n",
      " [6.97151013e-03]\n",
      " [9.13981446e-03]\n",
      " [9.05747379e-04]\n",
      " [3.05758358e-02]\n",
      " [1.34489762e-03]\n",
      " [3.38255476e-01]\n",
      " [2.02832519e-02]\n",
      " [6.86254597e-01]\n",
      " [1.27820168e-01]\n",
      " [2.64313553e-02]\n",
      " [0.00000000e+00]\n",
      " [1.05670528e-02]\n",
      " [4.88554647e-03]\n",
      " [9.60641159e-03]\n",
      " [7.87725751e-02]\n",
      " [6.30372729e-01]]\n"
     ]
    }
   ],
   "source": [
    "#Now normalizing the value of 'X' using the same method of min/max and coverting the input range from 0 to 1.\n",
    "max_value= X.max()\n",
    "min_value= X.min()\n",
    "print(X.max(),X.min())\n",
    "X_new= (X-min_value)/(max_value-min_value)\n",
    "print (X_new)"
   ]
  },
  {
   "cell_type": "code",
   "execution_count": 100,
   "metadata": {},
   "outputs": [
    {
     "data": {
      "image/png": "[encoded data removed]",
      "text/plain": [
       "<Figure size 720x504 with 1 Axes>"
      ]
     },
     "metadata": {
      "needs_background": "light"
     },
     "output_type": "display_data"
    }
   ],
   "source": [
    "#Plotting the input set of data.\n",
    "plt.xlabel('PEOPLE_PER_PHYSICIAN')\n",
    "plt.ylabel('LIFE_EXPECTANCY')\n",
    "plt.scatter(X_new,Y_new)\n",
    "plt.legend([\"Training Data\"])\n",
    "plt.show()"
   ]
  },
  {
   "cell_type": "code",
   "execution_count": 113,
   "metadata": {},
   "outputs": [
    {
     "name": "stdout",
     "output_type": "stream",
     "text": [
      "0.44355156514908856\n"
     ]
    },
    {
     "data": {
      "image/png": "[encoded data removed]",
      "text/plain": [
       "<Figure size 720x504 with 1 Axes>"
      ]
     },
     "metadata": {
      "needs_background": "light"
     },
     "output_type": "display_data"
    },
    {
     "name": "stdout",
     "output_type": "stream",
     "text": [
      "Mean Squared Error: 0.04881466888466598\n"
     ]
    }
   ],
   "source": [
    "#Using sklearn library function and calculating the 'y' value\n",
    "regressor = LinearRegression()\n",
    "X_train = X_new\n",
    "Y_train = Y_new\n",
    "regressor.fit(X_train, Y_train)\n",
    "y_sklearn = regressor.predict(X_new)\n",
    "print(regressor.score(X_train, Y_train))\n",
    "plt.scatter(X_new, Y_new)\n",
    "plt.xlabel('Input_X(X_new)')\n",
    "plt.ylabel('Predicted_Y')\n",
    "#plt.plot(y_sklearn, color ='red',linewidth=3)\n",
    "plt.plot([max(y_sklearn), min(y_sklearn)], color ='red')\n",
    "plt.legend([\"Predicted_Y_Sklearn\",\"Input_X(X_new)\"])\n",
    "plt.show()\n",
    "print('Mean Squared Error:', metrics.mean_squared_error(Y_new, y_sklearn))"
   ]
  },
  {
   "cell_type": "code",
   "execution_count": null,
   "metadata": {},
   "outputs": [],
   "source": []
  },
  {
   "cell_type": "code",
   "execution_count": null,
   "metadata": {},
   "outputs": [],
   "source": []
  }
 ],
 "metadata": {
  "kernelspec": {
   "display_name": "Python 3",
   "language": "python",
   "name": "python3"
  },
  "language_info": {
   "codemirror_mode": {
    "name": "ipython",
    "version": 3
   },
   "file_extension": ".py",
   "mimetype": "text/x-python",
   "name": "python",
   "nbconvert_exporter": "python",
   "pygments_lexer": "ipython3",
   "version": "3.7.4"
  }
 },
 "nbformat": 4,
 "nbformat_minor": 2
}
