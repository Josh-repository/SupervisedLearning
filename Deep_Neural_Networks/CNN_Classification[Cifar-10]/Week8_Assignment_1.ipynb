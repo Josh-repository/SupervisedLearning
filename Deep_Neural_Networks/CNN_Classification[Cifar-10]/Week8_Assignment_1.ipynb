{
 "cells": [
  {
   "cell_type": "code",
   "execution_count": 3,
   "metadata": {},
   "outputs": [],
   "source": [
    "#import the dataset and kernel matrices\n",
    "import numpy as np\n",
    "from PIL import Image\n",
    "im = Image.open('Circle.jpg')\n",
    "rgb = np.array(im.convert('RGB'))\n",
    "r=rgb[:,:,0] \n",
    "Image.fromarray(np.uint8(r)).show()\n",
    "c_k1 = np.array([[-1, -1, -1], [-1, 8, -1], [-1, -1, -1]])#for outlining\n",
    "c_k2 = np.array([[0,-1,0],[-1,8,-1],[0,-1,0]])#for sharpening \n",
    "bias  = 0.95\n",
    "bias1 = 0.05"
   ]
  },
  {
   "cell_type": "code",
   "execution_count": 4,
   "metadata": {},
   "outputs": [],
   "source": [
    "#defining function.\n",
    "def convolution2d(image, kernel,bias):\n",
    "    m, n = kernel.shape\n",
    "    if (m == n):\n",
    "        y, x = image.shape\n",
    "        y = y - m + 1\n",
    "        x = x - m + 1\n",
    "        new_image = np.zeros((y,x))\n",
    "        for i in range(y):\n",
    "            for j in range(x):\n",
    "                new_image[i][j] = np.sum((image[i:i+m, j:j+m]*kernel)+bias)\n",
    "    return new_image\n",
    "img1= convolution2d(r,c_k1,bias)\n",
    "img2= convolution2d(r,c_k2,bias1)\n",
    "Image.fromarray(np.uint8(img1)).show()\n",
    "Image.fromarray(np.uint8(img2)).show()\n"
   ]
  },
  {
   "cell_type": "code",
   "execution_count": null,
   "metadata": {},
   "outputs": [],
   "source": []
  },
  {
   "cell_type": "code",
   "execution_count": null,
   "metadata": {},
   "outputs": [],
   "source": []
  }
 ],
 "metadata": {
  "kernelspec": {
   "display_name": "Python 3",
   "language": "python",
   "name": "python3"
  },
  "language_info": {
   "codemirror_mode": {
    "name": "ipython",
    "version": 3
   },
   "file_extension": ".py",
   "mimetype": "text/x-python",
   "name": "python",
   "nbconvert_exporter": "python",
   "pygments_lexer": "ipython3",
   "version": "3.7.4"
  }
 },
 "nbformat": 4,
 "nbformat_minor": 2
}
